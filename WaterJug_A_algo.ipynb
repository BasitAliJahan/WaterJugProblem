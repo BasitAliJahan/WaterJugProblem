{
  "nbformat": 4,
  "nbformat_minor": 0,
  "metadata": {
    "colab": {
      "provenance": []
    },
    "kernelspec": {
      "name": "python3",
      "display_name": "Python 3"
    },
    "language_info": {
      "name": "python"
    }
  },
  "cells": [
    {
      "cell_type": "code",
      "execution_count": 2,
      "metadata": {
        "id": "HcTkJjKQbb8M",
        "colab": {
          "base_uri": "https://localhost:8080/"
        },
        "outputId": "9d24d015-85a6-4a41-836d-12e1f80ae06a"
      },
      "outputs": [
        {
          "output_type": "stream",
          "name": "stdout",
          "text": [
            "A* Solution path:\n",
            "(0, 0)\n",
            "(0, 3)\n",
            "(3, 0)\n",
            "(3, 3)\n",
            "(4, 2)\n"
          ]
        }
      ],
      "source": [
        "import heapq\n",
        "\n",
        "# Define jug capacities and goal volume\n",
        "JUG1 = 4\n",
        "JUG2 = 3\n",
        "GOAL = 2\n",
        "\n",
        "def heuristic(state):\n",
        "    x, y = state\n",
        "    return min(abs(x - GOAL), abs(y - GOAL))\n",
        "\n",
        "def a_star_water_jug():\n",
        "    start = (0, 0)\n",
        "    open_list = []\n",
        "    heapq.heappush(open_list, (heuristic(start), 0, [start]))\n",
        "    visited = {}\n",
        "\n",
        "    while open_list:\n",
        "        f, g, path = heapq.heappop(open_list)\n",
        "        state = path[-1]\n",
        "\n",
        "        if state[0] == GOAL or state[1] == GOAL:\n",
        "            return path\n",
        "\n",
        "        if state in visited and visited[state] <= g:\n",
        "            continue\n",
        "        visited[state] = g\n",
        "\n",
        "        x, y = state\n",
        "        next_states = [\n",
        "            (JUG1, y),  # Fill Jug1\n",
        "            (x, JUG2),  # Fill Jug2\n",
        "            (0, y),     # Empty Jug1\n",
        "            (x, 0),     # Empty Jug2\n",
        "            # Pour Jug1 -> Jug2\n",
        "            (x - min(x, JUG2 - y), y + min(x, JUG2 - y)),\n",
        "            # Pour Jug2 -> Jug1\n",
        "            (x + min(y, JUG1 - x), y - min(y, JUG1 - x))\n",
        "        ]\n",
        "\n",
        "        for nxt in next_states:\n",
        "            if nxt not in visited or g + 1 < visited.get(nxt, float('inf')):\n",
        "                new_path = list(path)\n",
        "                new_path.append(nxt)\n",
        "                new_g = g + 1\n",
        "                new_f = new_g + heuristic(nxt)\n",
        "                heapq.heappush(open_list, (new_f, new_g, new_path))\n",
        "\n",
        "    return None\n",
        "\n",
        "solution = a_star_water_jug()\n",
        "if solution:\n",
        "    print(\"A* Solution path:\")\n",
        "    for step in solution:\n",
        "        print(step)\n",
        "else:\n",
        "    print(\"No solution found.\")\n"
      ]
    }
  ]
}